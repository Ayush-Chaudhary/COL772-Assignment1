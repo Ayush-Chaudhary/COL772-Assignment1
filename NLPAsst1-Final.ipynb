{
 "cells": [
  {
   "cell_type": "code",
   "execution_count": 21,
   "metadata": {},
   "outputs": [],
   "source": [
    "import sys\n",
    "import pickle\n",
    "import numpy as np\n",
    "import pandas as pd\n",
    "import nltk\n",
    "from nltk.tag import pos_tag\n",
    "from nltk.tokenize import word_tokenize\n",
    "from sklearn.model_selection import train_test_split\n",
    "from sklearn.feature_extraction.text import CountVectorizer\n",
    "from sklearn.metrics import accuracy_score, classification_report\n",
    "nltk.download('stopwords')\n",
    "from nltk.corpus import stopwords\n",
    "import re\n",
    "from sklearn.pipeline import Pipeline\n",
    "from sklearn.svm import SVC, LinearSVC\n",
    "\n",
    "# import gensim\n",
    "# from sklearn.ensemble import GradientBoostingClassifier, RandomForestClassifier, AdaBoostClassifier\n",
    "# import matplotlib.pyplot as plt\n",
    "# from bs4 import BeautifulSoup\n",
    "# import xgboost\n",
    "# from sklearn.feature_extraction.text import TfidfTransformer\n",
    "from time import time\n",
    "# from fast_ml.model_development import train_valid_test_split\n",
    "# from scipy.sparse import csr_matrix"
   ]
  },
  {
   "cell_type": "code",
   "execution_count": 13,
   "metadata": {},
   "outputs": [],
   "source": [
    "# data=pd.read_csv(\"./Desktop/nlp_a1/train.csv\")\n",
    "data1=pd.read_csv(\"./Desktop/nlp_a1/train.csv\")"
   ]
  },
  {
   "cell_type": "code",
   "execution_count": 14,
   "metadata": {},
   "outputs": [],
   "source": [
    "punctuation = re.compile('[/(){}\\[\\]\\|@,;]')\n",
    "BAD_SYMBOLS_RE = re.compile('[^0-9a-z #+_]')\n",
    "Stopwords = set(stopwords.words('english'))"
   ]
  },
  {
   "cell_type": "code",
   "execution_count": 15,
   "metadata": {},
   "outputs": [],
   "source": [
    "def preprocess1(txt):\n",
    "    txt = txt.lower() \n",
    "    txt = punctuation.sub(' ', txt)\n",
    "    text = BAD_SYMBOLS_RE.sub('', txt) \n",
    "    txt = ' '.join(word for word in txt.split() if word not in Stopwords) \n",
    "    return txt\n",
    "\n",
    "data1['profile']=data1['profile'].apply(preprocess1)"
   ]
  },
  {
   "cell_type": "code",
   "execution_count": 7,
   "metadata": {},
   "outputs": [],
   "source": [
    "def tagger(data):\n",
    "    for i in data.index:\n",
    "        sent=data['profile'][i]\n",
    "        tag_sent = pos_tag(word_tokenize(sent))\n",
    "        ret=[]\n",
    "        for word,tag in tag_sent:\n",
    "            if tag==None:\n",
    "                ret.append(word)\n",
    "            else:\n",
    "                ret.append(str(word)+'_'+str(tag))\n",
    "        data['profile'][i]= ' '.join(ret)\n",
    "    return data"
   ]
  },
  {
   "cell_type": "code",
   "execution_count": 16,
   "metadata": {},
   "outputs": [
    {
     "data": {
      "text/html": [
       "<div>\n",
       "<style scoped>\n",
       "    .dataframe tbody tr th:only-of-type {\n",
       "        vertical-align: middle;\n",
       "    }\n",
       "\n",
       "    .dataframe tbody tr th {\n",
       "        vertical-align: top;\n",
       "    }\n",
       "\n",
       "    .dataframe thead th {\n",
       "        text-align: right;\n",
       "    }\n",
       "</style>\n",
       "<table border=\"1\" class=\"dataframe\">\n",
       "  <thead>\n",
       "    <tr style=\"text-align: right;\">\n",
       "      <th></th>\n",
       "      <th>profile</th>\n",
       "      <th>profession</th>\n",
       "    </tr>\n",
       "  </thead>\n",
       "  <tbody>\n",
       "    <tr>\n",
       "      <th>0</th>\n",
       "      <td>working children camp community school setting...</td>\n",
       "      <td>teacher</td>\n",
       "    </tr>\n",
       "    <tr>\n",
       "      <th>1</th>\n",
       "      <td>holds phd biosystems engineering university co...</td>\n",
       "      <td>professor</td>\n",
       "    </tr>\n",
       "    <tr>\n",
       "      <th>2</th>\n",
       "      <td>john served department chair foley’s national ...</td>\n",
       "      <td>attorney</td>\n",
       "    </tr>\n",
       "    <tr>\n",
       "      <th>3</th>\n",
       "      <td>20 years experience field neurosurgery. dr. ko...</td>\n",
       "      <td>surgeon</td>\n",
       "    </tr>\n",
       "    <tr>\n",
       "      <th>4</th>\n",
       "      <td>years ash built impressive fashion portfolio f...</td>\n",
       "      <td>photographer</td>\n",
       "    </tr>\n",
       "    <tr>\n",
       "      <th>...</th>\n",
       "      <td>...</td>\n",
       "      <td>...</td>\n",
       "    </tr>\n",
       "    <tr>\n",
       "      <th>127850</th>\n",
       "      <td>clinical interests include facial problems ros...</td>\n",
       "      <td>physician</td>\n",
       "    </tr>\n",
       "    <tr>\n",
       "      <th>127851</th>\n",
       "      <td>research interests include development educati...</td>\n",
       "      <td>professor</td>\n",
       "    </tr>\n",
       "    <tr>\n",
       "      <th>127852</th>\n",
       "      <td>mrs. susan decostanza marchand's npi number #1...</td>\n",
       "      <td>physician</td>\n",
       "    </tr>\n",
       "    <tr>\n",
       "      <th>127853</th>\n",
       "      <td>mr. franklin practices medicine tallahassee fl...</td>\n",
       "      <td>physician</td>\n",
       "    </tr>\n",
       "    <tr>\n",
       "      <th>127854</th>\n",
       "      <td>photographs seen uw-wisconsin libraries africa...</td>\n",
       "      <td>photographer</td>\n",
       "    </tr>\n",
       "  </tbody>\n",
       "</table>\n",
       "<p>127855 rows × 2 columns</p>\n",
       "</div>"
      ],
      "text/plain": [
       "                                                  profile    profession\n",
       "0       working children camp community school setting...       teacher\n",
       "1       holds phd biosystems engineering university co...     professor\n",
       "2       john served department chair foley’s national ...      attorney\n",
       "3       20 years experience field neurosurgery. dr. ko...       surgeon\n",
       "4       years ash built impressive fashion portfolio f...  photographer\n",
       "...                                                   ...           ...\n",
       "127850  clinical interests include facial problems ros...     physician\n",
       "127851  research interests include development educati...     professor\n",
       "127852  mrs. susan decostanza marchand's npi number #1...     physician\n",
       "127853  mr. franklin practices medicine tallahassee fl...     physician\n",
       "127854  photographs seen uw-wisconsin libraries africa...  photographer\n",
       "\n",
       "[127855 rows x 2 columns]"
      ]
     },
     "execution_count": 16,
     "metadata": {},
     "output_type": "execute_result"
    }
   ],
   "source": [
    "data1"
   ]
  },
  {
   "cell_type": "code",
   "execution_count": 17,
   "metadata": {},
   "outputs": [],
   "source": [
    "X = data1.profile\n",
    "y = data1.profession\n",
    "X_train, X_test, y_train, y_test = train_test_split(X, y, test_size=0.1, random_state = 1667)\n",
    "X_train, X_val, y_train, y_val = train_test_split(X_train, y_train, test_size=0.1, random_state = 1667)"
   ]
  },
  {
   "cell_type": "code",
   "execution_count": 22,
   "metadata": {},
   "outputs": [
    {
     "name": "stdout",
     "output_type": "stream",
     "text": [
      "[LibLinear]train accuracy 0.9990730190610455\n",
      "test accuracy 0.8164595463630834\n",
      "                   precision    recall  f1-score   support\n",
      "\n",
      "          teacher       0.76      0.69      0.72       163\n",
      "        professor       0.76      0.64      0.69       304\n",
      "         attorney       0.88      0.90      0.89       955\n",
      "          surgeon       0.69      0.67      0.68        82\n",
      "     photographer       0.82      0.70      0.76        88\n",
      "          painter       0.74      0.85      0.79       149\n",
      "     psychologist       0.92      0.97      0.94       381\n",
      "        filmmaker       0.80      0.82      0.81       115\n",
      "        physician       0.89      0.79      0.84        42\n",
      "interior_designer       0.84      0.74      0.79       232\n",
      "        architect       0.69      0.56      0.62        43\n",
      "        dietitian       0.63      0.76      0.69       556\n",
      "           pastor       0.75      0.70      0.73       200\n",
      "           rapper       0.84      0.79      0.82       555\n",
      "       journalist       0.81      0.78      0.79       250\n",
      "          dentist       0.90      0.44      0.59        41\n",
      "       accountant       0.69      0.60      0.64        82\n",
      "             poet       0.79      0.73      0.76        41\n",
      "            model       0.79      0.88      0.83       719\n",
      "            nurse       0.88      0.83      0.85      1164\n",
      "     chiropractor       0.70      0.76      0.73       195\n",
      "     yoga_teacher       0.90      0.88      0.89      3477\n",
      "software_engineer       0.75      0.75      0.75       500\n",
      "        paralegal       0.80      0.76      0.78        37\n",
      "         composer       0.66      0.78      0.71       195\n",
      " personal_trainer       0.75      0.71      0.73       412\n",
      "         comedian       0.58      0.61      0.59       467\n",
      "               dj       0.82      0.82      0.82        62\n",
      "\n",
      "         accuracy                           0.82     11507\n",
      "        macro avg       0.78      0.75      0.76     11507\n",
      "     weighted avg       0.82      0.82      0.82     11507\n",
      "\n"
     ]
    }
   ],
   "source": [
    "# Linear Support Vector Classifier\n",
    "\n",
    "lsvc = Pipeline([('vect', CountVectorizer(ngram_range=(1, 3))),\n",
    "                ('clf', LinearSVC(verbose=1, class_weight='balanced', C=0.04, max_iter=10000)),\n",
    "               ])\n",
    "\n",
    "my_tags=data['profession'].unique()\n",
    "\n",
    "lsvc.fit(X_train, y_train)\n",
    "y_pred_train = lsvc.predict(X_train)\n",
    "print('train accuracy %s' % accuracy_score(y_pred_train, y_train))\n",
    "y_pred = lsvc.predict(X_val)\n",
    "print('test accuracy %s' % accuracy_score(y_pred, y_val))\n",
    "print(classification_report(y_val, y_pred,target_names=my_tags))"
   ]
  },
  {
   "cell_type": "code",
   "execution_count": 20,
   "metadata": {},
   "outputs": [
    {
     "name": "stdout",
     "output_type": "stream",
     "text": [
      "train accuracy 0.9695351576833201\n",
      "test accuracy 0.8160488033786955\n",
      "480.23806858062744\n",
      "                   precision    recall  f1-score   support\n",
      "\n",
      "          teacher       0.83      0.72      0.77       196\n",
      "        professor       0.77      0.60      0.67       329\n",
      "         attorney       0.84      0.90      0.87      1058\n",
      "          surgeon       0.92      0.62      0.74        73\n",
      "     photographer       0.85      0.70      0.77       103\n",
      "          painter       0.76      0.84      0.79       188\n",
      "     psychologist       0.88      0.94      0.91       432\n",
      "        filmmaker       0.84      0.80      0.82       137\n",
      "        physician       0.82      0.70      0.76        47\n",
      "interior_designer       0.80      0.77      0.79       227\n",
      "        architect       0.75      0.46      0.57        46\n",
      "        dietitian       0.67      0.73      0.70       640\n",
      "           pastor       0.84      0.78      0.81       231\n",
      "           rapper       0.88      0.77      0.82       589\n",
      "       journalist       0.77      0.78      0.77       245\n",
      "          dentist       0.96      0.42      0.59        57\n",
      "       accountant       0.55      0.58      0.56        76\n",
      "             poet       0.77      0.69      0.73        58\n",
      "            model       0.83      0.89      0.86       820\n",
      "            nurse       0.86      0.86      0.86      1276\n",
      "     chiropractor       0.73      0.72      0.72       205\n",
      "     yoga_teacher       0.84      0.91      0.87      3937\n",
      "software_engineer       0.82      0.73      0.77       582\n",
      "        paralegal       0.71      0.66      0.68        41\n",
      "         composer       0.69      0.65      0.67       209\n",
      " personal_trainer       0.85      0.65      0.74       384\n",
      "         comedian       0.63      0.54      0.58       541\n",
      "               dj       0.75      0.76      0.76        59\n",
      "\n",
      "         accuracy                           0.82     12786\n",
      "        macro avg       0.79      0.72      0.75     12786\n",
      "     weighted avg       0.82      0.82      0.81     12786\n",
      "\n"
     ]
    }
   ],
   "source": [
    "# Stocastic Gradient Classifier\n",
    "\n",
    "from sklearn.linear_model import SGDClassifier\n",
    "\n",
    "sgd = Pipeline([('vect', CountVectorizer(ngram_range=(1, 3))),\n",
    "                #('tfidf', TfidfTransformer()),\n",
    "                ('clf', SGDClassifier(loss='hinge', penalty='l2',alpha=1e-3, max_iter=50, tol=None)),\n",
    "               ])\n",
    "\n",
    "a=time()\n",
    "sgd.fit(X_train, y_train)\n",
    "\n",
    "y_pred_train = sgd.predict(X_train)\n",
    "print('train accuracy %s' % accuracy_score(y_pred_train, y_train))\n",
    "y_pred = sgd.predict(X_test)\n",
    "print('test accuracy %s' % accuracy_score(y_pred, y_test))\n",
    "    \n",
    "b=time()\n",
    "print(b-a)\n",
    "my_tags=data['profession'].unique()\n",
    "\n",
    "print(classification_report(y_test, y_pred,target_names=my_tags))"
   ]
  },
  {
   "cell_type": "code",
   "execution_count": null,
   "metadata": {},
   "outputs": [],
   "source": [
    "pip freeze > requirements.txt"
   ]
  },
  {
   "cell_type": "code",
   "execution_count": 25,
   "metadata": {},
   "outputs": [],
   "source": [
    "op=pd.read_csv(\"./Desktop/nlp_a1/output.csv\")\n",
    "test=pd.read_csv(\"./Desktop/nlp_a1/test.csv\")\n"
   ]
  },
  {
   "cell_type": "code",
   "execution_count": 39,
   "metadata": {},
   "outputs": [],
   "source": [
    "test['profile']=test['profile'].apply(preprocess1)\n",
    "y_pred=lsvc.predict(test.profile)\n"
   ]
  },
  {
   "cell_type": "code",
   "execution_count": 37,
   "metadata": {},
   "outputs": [
    {
     "ename": "AttributeError",
     "evalue": "'Series' object has no attribute 'type'",
     "output_type": "error",
     "traceback": [
      "\u001b[1;31m---------------------------------------------------------------------------\u001b[0m",
      "\u001b[1;31mAttributeError\u001b[0m                            Traceback (most recent call last)",
      "Cell \u001b[1;32mIn [37], line 1\u001b[0m\n\u001b[1;32m----> 1\u001b[0m \u001b[43mX_val\u001b[49m\u001b[38;5;241;43m.\u001b[39;49m\u001b[43mtype\u001b[49m\n",
      "File \u001b[1;32m~\\anaconda3\\lib\\site-packages\\pandas\\core\\generic.py:5575\u001b[0m, in \u001b[0;36mNDFrame.__getattr__\u001b[1;34m(self, name)\u001b[0m\n\u001b[0;32m   5568\u001b[0m \u001b[38;5;28;01mif\u001b[39;00m (\n\u001b[0;32m   5569\u001b[0m     name \u001b[38;5;129;01mnot\u001b[39;00m \u001b[38;5;129;01min\u001b[39;00m \u001b[38;5;28mself\u001b[39m\u001b[38;5;241m.\u001b[39m_internal_names_set\n\u001b[0;32m   5570\u001b[0m     \u001b[38;5;129;01mand\u001b[39;00m name \u001b[38;5;129;01mnot\u001b[39;00m \u001b[38;5;129;01min\u001b[39;00m \u001b[38;5;28mself\u001b[39m\u001b[38;5;241m.\u001b[39m_metadata\n\u001b[0;32m   5571\u001b[0m     \u001b[38;5;129;01mand\u001b[39;00m name \u001b[38;5;129;01mnot\u001b[39;00m \u001b[38;5;129;01min\u001b[39;00m \u001b[38;5;28mself\u001b[39m\u001b[38;5;241m.\u001b[39m_accessors\n\u001b[0;32m   5572\u001b[0m     \u001b[38;5;129;01mand\u001b[39;00m \u001b[38;5;28mself\u001b[39m\u001b[38;5;241m.\u001b[39m_info_axis\u001b[38;5;241m.\u001b[39m_can_hold_identifiers_and_holds_name(name)\n\u001b[0;32m   5573\u001b[0m ):\n\u001b[0;32m   5574\u001b[0m     \u001b[38;5;28;01mreturn\u001b[39;00m \u001b[38;5;28mself\u001b[39m[name]\n\u001b[1;32m-> 5575\u001b[0m \u001b[38;5;28;01mreturn\u001b[39;00m \u001b[38;5;28;43mobject\u001b[39;49m\u001b[38;5;241;43m.\u001b[39;49m\u001b[38;5;21;43m__getattribute__\u001b[39;49m\u001b[43m(\u001b[49m\u001b[38;5;28;43mself\u001b[39;49m\u001b[43m,\u001b[49m\u001b[43m \u001b[49m\u001b[43mname\u001b[49m\u001b[43m)\u001b[49m\n",
      "\u001b[1;31mAttributeError\u001b[0m: 'Series' object has no attribute 'type'"
     ]
    }
   ],
   "source": [
    "X_val.type"
   ]
  },
  {
   "cell_type": "code",
   "execution_count": 38,
   "metadata": {},
   "outputs": [
    {
     "data": {
      "text/plain": [
       "array(['teacher', 'professor', 'attorney', 'surgeon', 'photographer',\n",
       "       'professor', 'painter', 'psychologist', 'professor', 'professor',\n",
       "       'filmmaker', 'physician', 'physician', 'professor',\n",
       "       'interior_designer', 'physician', 'professor', 'professor',\n",
       "       'teacher', 'professor', 'professor', 'professor', 'attorney',\n",
       "       'professor', 'teacher'], dtype=object)"
      ]
     },
     "execution_count": 38,
     "metadata": {},
     "output_type": "execute_result"
    }
   ],
   "source": [
    "lsvc.predict(test.profile)"
   ]
  },
  {
   "cell_type": "code",
   "execution_count": 40,
   "metadata": {},
   "outputs": [
    {
     "name": "stdout",
     "output_type": "stream",
     "text": [
      "                   precision    recall  f1-score   support\n",
      "\n",
      "         attorney       1.00      1.00      1.00         2\n",
      "        filmmaker       1.00      1.00      1.00         1\n",
      "interior_designer       1.00      1.00      1.00         1\n",
      "          painter       1.00      1.00      1.00         1\n",
      "     photographer       1.00      1.00      1.00         1\n",
      "        physician       1.00      1.00      1.00         3\n",
      "        professor       1.00      1.00      1.00        11\n",
      "     psychologist       1.00      1.00      1.00         1\n",
      "          surgeon       1.00      1.00      1.00         1\n",
      "          teacher       1.00      1.00      1.00         3\n",
      "\n",
      "         accuracy                           1.00        25\n",
      "        macro avg       1.00      1.00      1.00        25\n",
      "     weighted avg       1.00      1.00      1.00        25\n",
      "\n"
     ]
    }
   ],
   "source": [
    "print(classification_report(op, y_pred))"
   ]
  },
  {
   "cell_type": "code",
   "execution_count": 41,
   "metadata": {},
   "outputs": [
    {
     "name": "stdout",
     "output_type": "stream",
     "text": [
      "test accuracy 0.8165180666353824\n",
      "                   precision    recall  f1-score   support\n",
      "\n",
      "          teacher       0.80      0.74      0.77       196\n",
      "        professor       0.73      0.65      0.69       329\n",
      "         attorney       0.86      0.90      0.88      1058\n",
      "          surgeon       0.75      0.68      0.71        73\n",
      "     photographer       0.84      0.70      0.76       103\n",
      "          painter       0.76      0.82      0.79       188\n",
      "     psychologist       0.90      0.94      0.92       432\n",
      "        filmmaker       0.84      0.81      0.83       137\n",
      "        physician       0.89      0.72      0.80        47\n",
      "interior_designer       0.80      0.78      0.79       227\n",
      "        architect       0.76      0.57      0.65        46\n",
      "        dietitian       0.64      0.76      0.70       640\n",
      "           pastor       0.82      0.77      0.79       231\n",
      "           rapper       0.86      0.80      0.83       589\n",
      "       journalist       0.72      0.82      0.77       245\n",
      "          dentist       0.93      0.49      0.64        57\n",
      "       accountant       0.56      0.66      0.60        76\n",
      "             poet       0.75      0.74      0.75        58\n",
      "            model       0.84      0.87      0.85       820\n",
      "            nurse       0.87      0.85      0.86      1276\n",
      "     chiropractor       0.68      0.75      0.71       205\n",
      "     yoga_teacher       0.89      0.88      0.88      3937\n",
      "software_engineer       0.79      0.76      0.77       582\n",
      "        paralegal       0.72      0.68      0.70        41\n",
      "         composer       0.64      0.69      0.66       209\n",
      " personal_trainer       0.78      0.70      0.74       384\n",
      "         comedian       0.57      0.58      0.58       541\n",
      "               dj       0.75      0.75      0.75        59\n",
      "\n",
      "         accuracy                           0.82     12786\n",
      "        macro avg       0.78      0.74      0.76     12786\n",
      "     weighted avg       0.82      0.82      0.82     12786\n",
      "\n"
     ]
    }
   ],
   "source": [
    "y_pred = lsvc.predict(X_test)\n",
    "print('test accuracy %s' % accuracy_score(y_pred, y_test))\n",
    "print(classification_report(y_test, y_pred,target_names=my_tags))"
   ]
  },
  {
   "cell_type": "code",
   "execution_count": null,
   "metadata": {},
   "outputs": [],
   "source": []
  }
 ],
 "metadata": {
  "kernelspec": {
   "display_name": "Python 3.10.7 64-bit (microsoft store)",
   "language": "python",
   "name": "python3"
  },
  "language_info": {
   "codemirror_mode": {
    "name": "ipython",
    "version": 3
   },
   "file_extension": ".py",
   "mimetype": "text/x-python",
   "name": "python",
   "nbconvert_exporter": "python",
   "pygments_lexer": "ipython3",
   "version": "3.10.7"
  },
  "vscode": {
   "interpreter": {
    "hash": "30d475033c0928b95234fbbc496e659fedb0f92ce88e1cb0d2d96ee86321ca81"
   }
  }
 },
 "nbformat": 4,
 "nbformat_minor": 4
}
